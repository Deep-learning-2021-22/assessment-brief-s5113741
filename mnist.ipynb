{
  "nbformat": 4,
  "nbformat_minor": 0,
  "metadata": {
    "colab": {
      "name": "mnist.ipynb",
      "provenance": []
    },
    "kernelspec": {
      "name": "python3",
      "display_name": "Python 3"
    },
    "language_info": {
      "name": "python"
    }
  },
  "cells": [
    {
      "cell_type": "markdown",
      "metadata": {
        "id": "RFwWwmHb5vy0"
      },
      "source": [
        "**Mount google drive**\n",
        "\n",
        "This will mount the google drive for google colab and you will be able access contents of your drive."
      ]
    },
    {
      "cell_type": "code",
      "metadata": {
        "colab": {
          "base_uri": "https://localhost:8080/"
        },
        "id": "yWq9LLEk7bSK",
        "outputId": "0896474d-0305-46c7-d32d-621bd4def339"
      },
      "source": [
        "from google.colab import drive\n",
        "drive.mount('/content/drive')\n",
        "\n",
        "\n",
        "#import os\n",
        "# Add your directory path here\n",
        "#os.chdir('/content/drive/My Drive/Colab Notebooks/Assignments')"
      ],
      "execution_count": 1,
      "outputs": [
        {
          "output_type": "stream",
          "name": "stdout",
          "text": [
            "Mounted at /content/drive\n"
          ]
        }
      ]
    },
    {
      "cell_type": "markdown",
      "metadata": {
        "id": "snJIVhcr59lI"
      },
      "source": [
        "**Importing libraries**\n",
        "\n",
        "The tf.keras.datasets package in TensorFlow provides prebuilt utility functions for loading many common datasets."
      ]
    },
    {
      "cell_type": "code",
      "metadata": {
        "id": "fB1AWMeqAXrG"
      },
      "source": [
        "import tensorflow as tf\n",
        "import numpy as np\n",
        "import math\n",
        "import timeit\n",
        "import matplotlib.pyplot as plt\n"
      ],
      "execution_count": 16,
      "outputs": []
    },
    {
      "cell_type": "markdown",
      "metadata": {
        "id": "g2Fsxj_46Iim"
      },
      "source": [
        "**Loading dataset**\n",
        "\n",
        "we will use the MNIST dataset which is provided within keras. This might take a few minutes to download the first time you run it, but after that the files should be cached on disk and loading should be faster.\n",
        "\n",
        "This dataset consists of data points representing handwritten digits. Each article is characterized by an $28 \\times 28$ pixels grayscale image. Moreover, each article is associated with a label $y$ that indicates to which of $10$ classes (or produce categories) this article belongs. The entire dataset consists of $60000$ data points used as training and another $10000$ data points used as test set."
      ]
    },
    {
      "cell_type": "code",
      "metadata": {
        "colab": {
          "base_uri": "https://localhost:8080/"
        },
        "id": "X_80SxWLAbY4",
        "outputId": "e3ae1792-fd40-4d8c-f619-ea7e98ad0041"
      },
      "source": [
        "# Load the raw fashion-MNIST dataset and use appropriate data types and shapes\n",
        "from tensorflow.keras.datasets import mnist\n",
        "(X_train, y_train), (X_test, y_test) = mnist.load_data()\n",
        " \n",
        "\n",
        "# Normalize the data: subtract the mean pixel and divide by std\n",
        "mean_pixel = X_train.mean(axis=(0, 1, 2), keepdims=True)\n",
        "std_pixel = X_train.std(axis=(0, 1, 2), keepdims=True)\n",
        "X_train = (X_train - mean_pixel) / std_pixel\n",
        "X_test = (X_test - mean_pixel) / std_pixel\n",
        "\n",
        "print('Train data shape: ', X_train.shape)\n",
        "print('Train labels shape: ', y_train.shape, y_train.dtype)\n",
        "print('Test data shape: ', X_test.shape)\n",
        "print('Test labels shape: ', y_test.shape)"
      ],
      "execution_count": 4,
      "outputs": [
        {
          "output_type": "stream",
          "name": "stdout",
          "text": [
            "Downloading data from https://storage.googleapis.com/tensorflow/tf-keras-datasets/mnist.npz\n",
            "11493376/11490434 [==============================] - 0s 0us/step\n",
            "11501568/11490434 [==============================] - 0s 0us/step\n",
            "Train data shape:  (60000, 28, 28)\n",
            "Train labels shape:  (60000,) uint8\n",
            "Test data shape:  (10000, 28, 28)\n",
            "Test labels shape:  (10000,)\n"
          ]
        }
      ]
    },
    {
      "cell_type": "code",
      "metadata": {
        "colab": {
          "base_uri": "https://localhost:8080/"
        },
        "id": "Zq6l5nWFAl1n",
        "outputId": "224af9eb-8d9d-4d34-cf6e-e1abbceb407c"
      },
      "source": [
        "labels = np.unique(y_test)\n",
        "print(labels)"
      ],
      "execution_count": 5,
      "outputs": [
        {
          "output_type": "stream",
          "name": "stdout",
          "text": [
            "[0 1 2 3 4 5 6 7 8 9]\n"
          ]
        }
      ]
    },
    {
      "cell_type": "code",
      "metadata": {
        "colab": {
          "base_uri": "https://localhost:8080/"
        },
        "id": "IL7qudOBAqAF",
        "outputId": "f245a09f-1ab2-44c6-fbaa-bdcb216ec784"
      },
      "source": [
        "class_names = ['zero', 'one', 'two', 'three', 'four',\n",
        "               'five',      'six',   'seven',  'eight',   'nine']\n",
        "\n",
        "# display numeric label and corresponding class name \n",
        "print('label value \\t\\t category')\n",
        "for class_name, label in zip(class_names, labels):\n",
        "    print (f'{label} \\t\\t {class_name}')"
      ],
      "execution_count": 6,
      "outputs": [
        {
          "output_type": "stream",
          "name": "stdout",
          "text": [
            "label value \t\t category\n",
            "0 \t\t zero\n",
            "1 \t\t one\n",
            "2 \t\t two\n",
            "3 \t\t three\n",
            "4 \t\t four\n",
            "5 \t\t five\n",
            "6 \t\t six\n",
            "7 \t\t seven\n",
            "8 \t\t eight\n",
            "9 \t\t nine\n"
          ]
        }
      ]
    },
    {
      "cell_type": "code",
      "metadata": {
        "colab": {
          "base_uri": "https://localhost:8080/",
          "height": 251
        },
        "id": "30wIPeFpFWSG",
        "outputId": "84042e37-90b5-427c-8f94-5c77fc2a7e0e"
      },
      "source": [
        "plt.figure(figsize=(10,10))\n",
        "i = 0\n",
        "for (image, label) in zip(X_train[:10],y_train[:10]):\n",
        "    plt.subplot(5,5,i+1)\n",
        "    plt.xticks([]) # remove ticks on x-axis\n",
        "    plt.yticks([]) # remove ticks on y-axis\n",
        "    plt.imshow(image, cmap='binary') # set the colormap to 'binary' \n",
        "    plt.xlabel(class_names[label])\n",
        "    i += 1\n",
        "plt.show()"
      ],
      "execution_count": 7,
      "outputs": [
        {
          "output_type": "display_data",
          "data": {
            "image/png": "[encoded data removed]",
            "text/plain": [
              "<Figure size 720x720 with 10 Axes>"
            ]
          },
          "metadata": {}
        }
      ]
    },
    {
      "cell_type": "code",
      "metadata": {
        "id": "Uv8CjNmGFb8m"
      },
      "source": [
        "# Start your code from here"
      ],
      "execution_count": 12,
      "outputs": []
    }
  ]
}